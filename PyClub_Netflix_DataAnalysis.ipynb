{
 "cells": [
  {
   "cell_type": "code",
   "execution_count": 1,
   "id": "692fd034-6a77-4269-990d-a840db3e1933",
   "metadata": {},
   "outputs": [],
   "source": [
    "import pandas as pd\n",
    "import numpy as np\n",
    "import seaborn as sns\n",
    "import matplotlib.pyplot as plt\n",
    "from datetime import datetime"
   ]
  },
  {
   "cell_type": "markdown",
   "id": "changing-actress",
   "metadata": {},
   "source": [
    "Öncelikle gerekli kütüphanelerimizi ekliyoruz. Bunlar;\n",
    "pandas:veri okuma, veri ön işleme ve veri temizlemede kullanılır.\n",
    "numpy:matematiksel işlemlerde kullanılır.\n",
    "seaborn:veri görselleştirmede tablolar oluşturmak için kullanılır.\n",
    "matplotlib.pyplot: yine bu kütüphane de veri görselleştirmesinde kullanılır.\n",
    "datetime: tarihlerle ilgili işlemlerde kullanılır."
   ]
  },
  {
   "cell_type": "code",
   "execution_count": 3,
   "id": "de2802da-7f41-4899-b873-d46a121c31fc",
   "metadata": {},
   "outputs": [],
   "source": [
    "netflix = pd.read_csv('NetflixOriginals.csv', encoding = 'ISO-8859-1')\n",
    "df = netflix.copy()"
   ]
  },
  {
   "cell_type": "markdown",
   "id": "alleged-literature",
   "metadata": {},
   "source": [
    "veri setimizi okuduk ve orijinal veri setimizi değiştirmemek için bir kopyasını aldık."
   ]
  },
  {
   "cell_type": "code",
   "execution_count": 4,
   "id": "f6b9735a-7fa3-4237-a51d-ba13638b7ac2",
   "metadata": {
    "tags": []
   },
   "outputs": [
    {
     "data": {
      "text/html": [
       "<div>\n",
       "<style scoped>\n",
       "    .dataframe tbody tr th:only-of-type {\n",
       "        vertical-align: middle;\n",
       "    }\n",
       "\n",
       "    .dataframe tbody tr th {\n",
       "        vertical-align: top;\n",
       "    }\n",
       "\n",
       "    .dataframe thead th {\n",
       "        text-align: right;\n",
       "    }\n",
       "</style>\n",
       "<table border=\"1\" class=\"dataframe\">\n",
       "  <thead>\n",
       "    <tr style=\"text-align: right;\">\n",
       "      <th></th>\n",
       "      <th>Title</th>\n",
       "      <th>Genre</th>\n",
       "      <th>Premiere</th>\n",
       "      <th>Runtime</th>\n",
       "      <th>IMDB Score</th>\n",
       "      <th>Language</th>\n",
       "    </tr>\n",
       "  </thead>\n",
       "  <tbody>\n",
       "    <tr>\n",
       "      <th>0</th>\n",
       "      <td>Enter the Anime</td>\n",
       "      <td>Documentary</td>\n",
       "      <td>August 5, 2019</td>\n",
       "      <td>58</td>\n",
       "      <td>2.5</td>\n",
       "      <td>English/Japanese</td>\n",
       "    </tr>\n",
       "    <tr>\n",
       "      <th>1</th>\n",
       "      <td>Dark Forces</td>\n",
       "      <td>Thriller</td>\n",
       "      <td>August 21, 2020</td>\n",
       "      <td>81</td>\n",
       "      <td>2.6</td>\n",
       "      <td>Spanish</td>\n",
       "    </tr>\n",
       "    <tr>\n",
       "      <th>2</th>\n",
       "      <td>The App</td>\n",
       "      <td>Science fiction/Drama</td>\n",
       "      <td>December 26, 2019</td>\n",
       "      <td>79</td>\n",
       "      <td>2.6</td>\n",
       "      <td>Italian</td>\n",
       "    </tr>\n",
       "    <tr>\n",
       "      <th>3</th>\n",
       "      <td>The Open House</td>\n",
       "      <td>Horror thriller</td>\n",
       "      <td>January 19, 2018</td>\n",
       "      <td>94</td>\n",
       "      <td>3.2</td>\n",
       "      <td>English</td>\n",
       "    </tr>\n",
       "    <tr>\n",
       "      <th>4</th>\n",
       "      <td>Kaali Khuhi</td>\n",
       "      <td>Mystery</td>\n",
       "      <td>October 30, 2020</td>\n",
       "      <td>90</td>\n",
       "      <td>3.4</td>\n",
       "      <td>Hindi</td>\n",
       "    </tr>\n",
       "  </tbody>\n",
       "</table>\n",
       "</div>"
      ],
      "text/plain": [
       "             Title                  Genre           Premiere  Runtime  \\\n",
       "0  Enter the Anime            Documentary     August 5, 2019       58   \n",
       "1      Dark Forces               Thriller    August 21, 2020       81   \n",
       "2          The App  Science fiction/Drama  December 26, 2019       79   \n",
       "3   The Open House        Horror thriller   January 19, 2018       94   \n",
       "4      Kaali Khuhi                Mystery   October 30, 2020       90   \n",
       "\n",
       "   IMDB Score          Language  \n",
       "0         2.5  English/Japanese  \n",
       "1         2.6           Spanish  \n",
       "2         2.6           Italian  \n",
       "3         3.2           English  \n",
       "4         3.4             Hindi  "
      ]
     },
     "execution_count": 4,
     "metadata": {},
     "output_type": "execute_result"
    }
   ],
   "source": [
    "df.head()"
   ]
  },
  {
   "cell_type": "markdown",
   "id": "protected-thunder",
   "metadata": {},
   "source": [
    "Öncelikle head ile ilk beş verimizde neler var sütunlarımız neler onları inceledik."
   ]
  },
  {
   "cell_type": "code",
   "execution_count": 5,
   "id": "cce18c9b-ce82-410d-84da-be87e72c1ce8",
   "metadata": {
    "tags": []
   },
   "outputs": [
    {
     "data": {
      "text/html": [
       "<div>\n",
       "<style scoped>\n",
       "    .dataframe tbody tr th:only-of-type {\n",
       "        vertical-align: middle;\n",
       "    }\n",
       "\n",
       "    .dataframe tbody tr th {\n",
       "        vertical-align: top;\n",
       "    }\n",
       "\n",
       "    .dataframe thead th {\n",
       "        text-align: right;\n",
       "    }\n",
       "</style>\n",
       "<table border=\"1\" class=\"dataframe\">\n",
       "  <thead>\n",
       "    <tr style=\"text-align: right;\">\n",
       "      <th></th>\n",
       "      <th>Title</th>\n",
       "      <th>Genre</th>\n",
       "      <th>Premiere</th>\n",
       "      <th>Runtime</th>\n",
       "      <th>IMDB Score</th>\n",
       "      <th>Language</th>\n",
       "    </tr>\n",
       "  </thead>\n",
       "  <tbody>\n",
       "    <tr>\n",
       "      <th>579</th>\n",
       "      <td>Taylor Swift: Reputation Stadium Tour</td>\n",
       "      <td>Concert Film</td>\n",
       "      <td>December 31, 2018</td>\n",
       "      <td>125</td>\n",
       "      <td>8.4</td>\n",
       "      <td>English</td>\n",
       "    </tr>\n",
       "    <tr>\n",
       "      <th>580</th>\n",
       "      <td>Winter on Fire: Ukraine's Fight for Freedom</td>\n",
       "      <td>Documentary</td>\n",
       "      <td>October 9, 2015</td>\n",
       "      <td>91</td>\n",
       "      <td>8.4</td>\n",
       "      <td>English/Ukranian/Russian</td>\n",
       "    </tr>\n",
       "    <tr>\n",
       "      <th>581</th>\n",
       "      <td>Springsteen on Broadway</td>\n",
       "      <td>One-man show</td>\n",
       "      <td>December 16, 2018</td>\n",
       "      <td>153</td>\n",
       "      <td>8.5</td>\n",
       "      <td>English</td>\n",
       "    </tr>\n",
       "    <tr>\n",
       "      <th>582</th>\n",
       "      <td>Emicida: AmarElo - It's All For Yesterday</td>\n",
       "      <td>Documentary</td>\n",
       "      <td>December 8, 2020</td>\n",
       "      <td>89</td>\n",
       "      <td>8.6</td>\n",
       "      <td>Portuguese</td>\n",
       "    </tr>\n",
       "    <tr>\n",
       "      <th>583</th>\n",
       "      <td>David Attenborough: A Life on Our Planet</td>\n",
       "      <td>Documentary</td>\n",
       "      <td>October 4, 2020</td>\n",
       "      <td>83</td>\n",
       "      <td>9.0</td>\n",
       "      <td>English</td>\n",
       "    </tr>\n",
       "  </tbody>\n",
       "</table>\n",
       "</div>"
      ],
      "text/plain": [
       "                                           Title         Genre  \\\n",
       "579        Taylor Swift: Reputation Stadium Tour  Concert Film   \n",
       "580  Winter on Fire: Ukraine's Fight for Freedom   Documentary   \n",
       "581                      Springsteen on Broadway  One-man show   \n",
       "582    Emicida: AmarElo - It's All For Yesterday   Documentary   \n",
       "583     David Attenborough: A Life on Our Planet   Documentary   \n",
       "\n",
       "              Premiere  Runtime  IMDB Score                  Language  \n",
       "579  December 31, 2018      125         8.4                   English  \n",
       "580    October 9, 2015       91         8.4  English/Ukranian/Russian  \n",
       "581  December 16, 2018      153         8.5                   English  \n",
       "582   December 8, 2020       89         8.6                Portuguese  \n",
       "583    October 4, 2020       83         9.0                   English  "
      ]
     },
     "execution_count": 5,
     "metadata": {},
     "output_type": "execute_result"
    }
   ],
   "source": [
    "df.tail()"
   ]
  },
  {
   "cell_type": "markdown",
   "id": "satellite-highway",
   "metadata": {},
   "source": [
    "tail ile de son beş verimizi inceledik."
   ]
  },
  {
   "cell_type": "code",
   "execution_count": 6,
   "id": "64401681-fe17-49c6-b59f-7139c570cbce",
   "metadata": {},
   "outputs": [
    {
     "name": "stdout",
     "output_type": "stream",
     "text": [
      "<class 'pandas.core.frame.DataFrame'>\n",
      "RangeIndex: 584 entries, 0 to 583\n",
      "Data columns (total 6 columns):\n",
      " #   Column      Non-Null Count  Dtype  \n",
      "---  ------      --------------  -----  \n",
      " 0   Title       584 non-null    object \n",
      " 1   Genre       584 non-null    object \n",
      " 2   Premiere    584 non-null    object \n",
      " 3   Runtime     584 non-null    int64  \n",
      " 4   IMDB Score  584 non-null    float64\n",
      " 5   Language    584 non-null    object \n",
      "dtypes: float64(1), int64(1), object(4)\n",
      "memory usage: 27.5+ KB\n"
     ]
    }
   ],
   "source": [
    "df.info()"
   ]
  },
  {
   "cell_type": "markdown",
   "id": "transparent-celtic",
   "metadata": {},
   "source": [
    "info metoduyla verilerimizin sütunlarını, boş olmayan veri sayımızı ve veri türlerimizi inceledik. 6 tane sütunumuz var ve hiçbirinde eksik değer olmadığını görüyoruz. Runtime sütunun veri türü integer iken IMDB Score sütununun float olduğunu görüyoruz."
   ]
  },
  {
   "cell_type": "code",
   "execution_count": 7,
   "id": "0def5061-70a4-4776-a154-5890f8431a9f",
   "metadata": {},
   "outputs": [
    {
     "data": {
      "text/html": [
       "<div>\n",
       "<style scoped>\n",
       "    .dataframe tbody tr th:only-of-type {\n",
       "        vertical-align: middle;\n",
       "    }\n",
       "\n",
       "    .dataframe tbody tr th {\n",
       "        vertical-align: top;\n",
       "    }\n",
       "\n",
       "    .dataframe thead th {\n",
       "        text-align: right;\n",
       "    }\n",
       "</style>\n",
       "<table border=\"1\" class=\"dataframe\">\n",
       "  <thead>\n",
       "    <tr style=\"text-align: right;\">\n",
       "      <th></th>\n",
       "      <th>count</th>\n",
       "      <th>mean</th>\n",
       "      <th>std</th>\n",
       "      <th>min</th>\n",
       "      <th>25%</th>\n",
       "      <th>50%</th>\n",
       "      <th>75%</th>\n",
       "      <th>max</th>\n",
       "    </tr>\n",
       "  </thead>\n",
       "  <tbody>\n",
       "    <tr>\n",
       "      <th>Runtime</th>\n",
       "      <td>584.0</td>\n",
       "      <td>93.577055</td>\n",
       "      <td>27.761683</td>\n",
       "      <td>4.0</td>\n",
       "      <td>86.0</td>\n",
       "      <td>97.00</td>\n",
       "      <td>108.0</td>\n",
       "      <td>209.0</td>\n",
       "    </tr>\n",
       "    <tr>\n",
       "      <th>IMDB Score</th>\n",
       "      <td>584.0</td>\n",
       "      <td>6.271747</td>\n",
       "      <td>0.979256</td>\n",
       "      <td>2.5</td>\n",
       "      <td>5.7</td>\n",
       "      <td>6.35</td>\n",
       "      <td>7.0</td>\n",
       "      <td>9.0</td>\n",
       "    </tr>\n",
       "  </tbody>\n",
       "</table>\n",
       "</div>"
      ],
      "text/plain": [
       "            count       mean        std  min   25%    50%    75%    max\n",
       "Runtime     584.0  93.577055  27.761683  4.0  86.0  97.00  108.0  209.0\n",
       "IMDB Score  584.0   6.271747   0.979256  2.5   5.7   6.35    7.0    9.0"
      ]
     },
     "execution_count": 7,
     "metadata": {},
     "output_type": "execute_result"
    }
   ],
   "source": [
    "df.describe().T"
   ]
  },
  {
   "cell_type": "markdown",
   "id": "mexican-community",
   "metadata": {},
   "source": [
    "describe metoduyla sayısal verilerimizin istatiksel verilerini inceledik. Burada ortalamalarını, standart sapmalarını minimum ve maksimum değerlerini gördük ve inceledik."
   ]
  },
  {
   "cell_type": "code",
   "execution_count": 8,
   "id": "9c77a6cf-4954-4b38-9d02-a0ac17c869ef",
   "metadata": {},
   "outputs": [],
   "source": [
    "df.Title = pd.Categorical(df.Title)\n",
    "df.Genre = pd.Categorical(df.Genre)\n",
    "df.Premiere = pd.Categorical(df.Premiere)\n",
    "df.Language = pd.Categorical(df.Language)"
   ]
  },
  {
   "cell_type": "markdown",
   "id": "intelligent-prince",
   "metadata": {},
   "source": [
    "Bu kod parçasında ise verilerdeki bilgilerin hepsini inceleyebilmek için ekledik. Bu sayede kod parçası istediğimiz sütunun bütün satırlarının hepsini görebileceğiz."
   ]
  },
  {
   "cell_type": "code",
   "execution_count": 9,
   "id": "c40ca48c-0c9b-4962-aeb3-03ab6c9e96c3",
   "metadata": {},
   "outputs": [
    {
     "data": {
      "text/plain": [
       "Title         0\n",
       "Genre         0\n",
       "Premiere      0\n",
       "Runtime       0\n",
       "IMDB Score    0\n",
       "Language      0\n",
       "dtype: int64"
      ]
     },
     "execution_count": 9,
     "metadata": {},
     "output_type": "execute_result"
    }
   ],
   "source": [
    "df.isnull().sum()"
   ]
  },
  {
   "cell_type": "code",
   "execution_count": 10,
   "id": "9f1966b6-c791-4a48-b518-a188d6fd62e7",
   "metadata": {},
   "outputs": [
    {
     "data": {
      "text/plain": [
       "Title         0\n",
       "Genre         0\n",
       "Premiere      0\n",
       "Runtime       0\n",
       "IMDB Score    0\n",
       "Language      0\n",
       "dtype: int64"
      ]
     },
     "execution_count": 10,
     "metadata": {},
     "output_type": "execute_result"
    }
   ],
   "source": [
    "df.isna().sum()"
   ]
  },
  {
   "cell_type": "markdown",
   "id": "searching-decimal",
   "metadata": {},
   "source": [
    "Burada ise tekrardan verilerimiz boş mu boşsa bunların toplamını geri döndür anlamına gelen kodu yazdığımızda eksik verinin olmadığını gördük."
   ]
  },
  {
   "cell_type": "code",
   "execution_count": 11,
   "id": "972deff6-cede-4472-9100-fbfacf365054",
   "metadata": {
    "tags": []
   },
   "outputs": [
    {
     "data": {
      "text/plain": [
       "0   2019-08-05\n",
       "1   2020-08-21\n",
       "2   2019-12-26\n",
       "3   2018-01-19\n",
       "4   2020-10-30\n",
       "Name: Date, dtype: datetime64[ns]"
      ]
     },
     "execution_count": 11,
     "metadata": {},
     "output_type": "execute_result"
    }
   ],
   "source": [
    "df['Date'] = pd.to_datetime(df.Premiere)\n",
    "df['Date'].head()"
   ]
  },
  {
   "cell_type": "markdown",
   "id": "brutal-chicago",
   "metadata": {},
   "source": [
    "Premiere sütunundaki satırları daha sonrasındaki analizlerimizde daha rahat kullanabilmek adına Yıl-Ay-Gün sayılsal formatına dönüştürdük."
   ]
  },
  {
   "cell_type": "code",
   "execution_count": 12,
   "id": "a305a0b3-f277-4080-a27a-09291aef2803",
   "metadata": {
    "tags": []
   },
   "outputs": [
    {
     "data": {
      "text/html": [
       "<div>\n",
       "<style scoped>\n",
       "    .dataframe tbody tr th:only-of-type {\n",
       "        vertical-align: middle;\n",
       "    }\n",
       "\n",
       "    .dataframe tbody tr th {\n",
       "        vertical-align: top;\n",
       "    }\n",
       "\n",
       "    .dataframe thead th {\n",
       "        text-align: right;\n",
       "    }\n",
       "</style>\n",
       "<table border=\"1\" class=\"dataframe\">\n",
       "  <thead>\n",
       "    <tr style=\"text-align: right;\">\n",
       "      <th></th>\n",
       "      <th>Title</th>\n",
       "      <th>Genre</th>\n",
       "      <th>Runtime</th>\n",
       "      <th>IMDB Score</th>\n",
       "      <th>Language</th>\n",
       "      <th>Date</th>\n",
       "    </tr>\n",
       "  </thead>\n",
       "  <tbody>\n",
       "    <tr>\n",
       "      <th>0</th>\n",
       "      <td>Enter the Anime</td>\n",
       "      <td>Documentary</td>\n",
       "      <td>58</td>\n",
       "      <td>2.5</td>\n",
       "      <td>English/Japanese</td>\n",
       "      <td>2019-08-05</td>\n",
       "    </tr>\n",
       "    <tr>\n",
       "      <th>1</th>\n",
       "      <td>Dark Forces</td>\n",
       "      <td>Thriller</td>\n",
       "      <td>81</td>\n",
       "      <td>2.6</td>\n",
       "      <td>Spanish</td>\n",
       "      <td>2020-08-21</td>\n",
       "    </tr>\n",
       "    <tr>\n",
       "      <th>2</th>\n",
       "      <td>The App</td>\n",
       "      <td>Science fiction/Drama</td>\n",
       "      <td>79</td>\n",
       "      <td>2.6</td>\n",
       "      <td>Italian</td>\n",
       "      <td>2019-12-26</td>\n",
       "    </tr>\n",
       "    <tr>\n",
       "      <th>3</th>\n",
       "      <td>The Open House</td>\n",
       "      <td>Horror thriller</td>\n",
       "      <td>94</td>\n",
       "      <td>3.2</td>\n",
       "      <td>English</td>\n",
       "      <td>2018-01-19</td>\n",
       "    </tr>\n",
       "    <tr>\n",
       "      <th>4</th>\n",
       "      <td>Kaali Khuhi</td>\n",
       "      <td>Mystery</td>\n",
       "      <td>90</td>\n",
       "      <td>3.4</td>\n",
       "      <td>Hindi</td>\n",
       "      <td>2020-10-30</td>\n",
       "    </tr>\n",
       "  </tbody>\n",
       "</table>\n",
       "</div>"
      ],
      "text/plain": [
       "             Title                  Genre  Runtime  IMDB Score  \\\n",
       "0  Enter the Anime            Documentary       58         2.5   \n",
       "1      Dark Forces               Thriller       81         2.6   \n",
       "2          The App  Science fiction/Drama       79         2.6   \n",
       "3   The Open House        Horror thriller       94         3.2   \n",
       "4      Kaali Khuhi                Mystery       90         3.4   \n",
       "\n",
       "           Language       Date  \n",
       "0  English/Japanese 2019-08-05  \n",
       "1           Spanish 2020-08-21  \n",
       "2           Italian 2019-12-26  \n",
       "3           English 2018-01-19  \n",
       "4             Hindi 2020-10-30  "
      ]
     },
     "execution_count": 12,
     "metadata": {},
     "output_type": "execute_result"
    }
   ],
   "source": [
    "df.drop(labels = ['Premiere'], axis = 1, inplace = True)\n",
    "df.head()"
   ]
  },
  {
   "cell_type": "markdown",
   "id": "ranging-digest",
   "metadata": {},
   "source": [
    "Artık Date sütunumuz olduğu için Premiere sütununa gerek kalmadı. Bu yüzden drop fonksiyonuyla onu veri setimizden kaldırdık."
   ]
  },
  {
   "cell_type": "markdown",
   "id": "d5130955-fa10-4b16-8606-a78f371e944e",
   "metadata": {
    "tags": []
   },
   "source": [
    "#### 1) Veri setine göre uzun soluklu filmler hangi dilde oluşturulmuştur? Görselleştirme yapınız. (OK)"
   ]
  },
  {
   "cell_type": "code",
   "execution_count": 13,
   "id": "f0966c9b-1da3-4e65-b2a5-b4f9baa7013f",
   "metadata": {},
   "outputs": [
    {
     "data": {
      "text/html": [
       "<div>\n",
       "<style scoped>\n",
       "    .dataframe tbody tr th:only-of-type {\n",
       "        vertical-align: middle;\n",
       "    }\n",
       "\n",
       "    .dataframe tbody tr th {\n",
       "        vertical-align: top;\n",
       "    }\n",
       "\n",
       "    .dataframe thead th {\n",
       "        text-align: right;\n",
       "    }\n",
       "</style>\n",
       "<table border=\"1\" class=\"dataframe\">\n",
       "  <thead>\n",
       "    <tr style=\"text-align: right;\">\n",
       "      <th></th>\n",
       "      <th>Title</th>\n",
       "      <th>Genre</th>\n",
       "      <th>Runtime</th>\n",
       "      <th>IMDB Score</th>\n",
       "      <th>Language</th>\n",
       "      <th>Date</th>\n",
       "    </tr>\n",
       "  </thead>\n",
       "  <tbody>\n",
       "    <tr>\n",
       "      <th>1</th>\n",
       "      <td>Dark Forces</td>\n",
       "      <td>Thriller</td>\n",
       "      <td>81</td>\n",
       "      <td>2.6</td>\n",
       "      <td>Spanish</td>\n",
       "      <td>2020-08-21</td>\n",
       "    </tr>\n",
       "    <tr>\n",
       "      <th>2</th>\n",
       "      <td>The App</td>\n",
       "      <td>Science fiction/Drama</td>\n",
       "      <td>79</td>\n",
       "      <td>2.6</td>\n",
       "      <td>Italian</td>\n",
       "      <td>2019-12-26</td>\n",
       "    </tr>\n",
       "    <tr>\n",
       "      <th>3</th>\n",
       "      <td>The Open House</td>\n",
       "      <td>Horror thriller</td>\n",
       "      <td>94</td>\n",
       "      <td>3.2</td>\n",
       "      <td>English</td>\n",
       "      <td>2018-01-19</td>\n",
       "    </tr>\n",
       "    <tr>\n",
       "      <th>4</th>\n",
       "      <td>Kaali Khuhi</td>\n",
       "      <td>Mystery</td>\n",
       "      <td>90</td>\n",
       "      <td>3.4</td>\n",
       "      <td>Hindi</td>\n",
       "      <td>2020-10-30</td>\n",
       "    </tr>\n",
       "    <tr>\n",
       "      <th>5</th>\n",
       "      <td>Drive</td>\n",
       "      <td>Action</td>\n",
       "      <td>147</td>\n",
       "      <td>3.5</td>\n",
       "      <td>Hindi</td>\n",
       "      <td>2019-11-01</td>\n",
       "    </tr>\n",
       "    <tr>\n",
       "      <th>6</th>\n",
       "      <td>Leyla Everlasting</td>\n",
       "      <td>Comedy</td>\n",
       "      <td>112</td>\n",
       "      <td>3.7</td>\n",
       "      <td>Turkish</td>\n",
       "      <td>2020-12-04</td>\n",
       "    </tr>\n",
       "    <tr>\n",
       "      <th>7</th>\n",
       "      <td>The Last Days of American Crime</td>\n",
       "      <td>Heist film/Thriller</td>\n",
       "      <td>149</td>\n",
       "      <td>3.7</td>\n",
       "      <td>English</td>\n",
       "      <td>2020-06-05</td>\n",
       "    </tr>\n",
       "    <tr>\n",
       "      <th>8</th>\n",
       "      <td>Paradox</td>\n",
       "      <td>Musical/Western/Fantasy</td>\n",
       "      <td>73</td>\n",
       "      <td>3.9</td>\n",
       "      <td>English</td>\n",
       "      <td>2018-03-23</td>\n",
       "    </tr>\n",
       "    <tr>\n",
       "      <th>9</th>\n",
       "      <td>Sardar Ka Grandson</td>\n",
       "      <td>Comedy</td>\n",
       "      <td>139</td>\n",
       "      <td>4.1</td>\n",
       "      <td>Hindi</td>\n",
       "      <td>2021-05-18</td>\n",
       "    </tr>\n",
       "    <tr>\n",
       "      <th>11</th>\n",
       "      <td>The Call</td>\n",
       "      <td>Drama</td>\n",
       "      <td>112</td>\n",
       "      <td>4.1</td>\n",
       "      <td>Korean</td>\n",
       "      <td>2020-11-27</td>\n",
       "    </tr>\n",
       "  </tbody>\n",
       "</table>\n",
       "</div>"
      ],
      "text/plain": [
       "                              Title                    Genre  Runtime  \\\n",
       "1                       Dark Forces                 Thriller       81   \n",
       "2                           The App    Science fiction/Drama       79   \n",
       "3                    The Open House          Horror thriller       94   \n",
       "4                       Kaali Khuhi                  Mystery       90   \n",
       "5                             Drive                   Action      147   \n",
       "6                 Leyla Everlasting                   Comedy      112   \n",
       "7   The Last Days of American Crime      Heist film/Thriller      149   \n",
       "8                           Paradox  Musical/Western/Fantasy       73   \n",
       "9                Sardar Ka Grandson                   Comedy      139   \n",
       "11                         The Call                    Drama      112   \n",
       "\n",
       "    IMDB Score Language       Date  \n",
       "1          2.6  Spanish 2020-08-21  \n",
       "2          2.6  Italian 2019-12-26  \n",
       "3          3.2  English 2018-01-19  \n",
       "4          3.4    Hindi 2020-10-30  \n",
       "5          3.5    Hindi 2019-11-01  \n",
       "6          3.7  Turkish 2020-12-04  \n",
       "7          3.7  English 2020-06-05  \n",
       "8          3.9  English 2018-03-23  \n",
       "9          4.1    Hindi 2021-05-18  \n",
       "11         4.1   Korean 2020-11-27  "
      ]
     },
     "execution_count": 13,
     "metadata": {},
     "output_type": "execute_result"
    }
   ],
   "source": [
    "us = df.copy()\n",
    "us = us[us['Runtime'] >= 60]\n",
    "us.head(10)"
   ]
  },
  {
   "cell_type": "code",
   "execution_count": 14,
   "id": "b7d88ff3-b863-4617-8600-4f9d58b5f6c2",
   "metadata": {},
   "outputs": [
    {
     "data": {
      "image/png": "[encoded data removed]",
      "text/plain": [
       "<Figure size 432x288 with 1 Axes>"
      ]
     },
     "metadata": {
      "needs_background": "light"
     },
     "output_type": "display_data"
    }
   ],
   "source": [
    "us[\"Language\"].value_counts()[:10].plot(kind = 'bar');"
   ]
  },
  {
   "cell_type": "markdown",
   "id": "aware-mozambique",
   "metadata": {},
   "source": [
    "Bir filmin uzun soluklu olması için 60 dakika veya daha uzun olması gerekmektedir. Biz de veri setimizde Runtime değerinin 60'dan büyük olanlarını seçtik. Grafikte daha fazla sayıda dil vardı fakat bu sefer yazılar iç içe geçiyordu ve grafiğin okunurluğu bozuluyordu. Bu yüzden biz de ilk on dili tabloya ekledik. Tablodan da anlaşılacağı üzere en çok İngilizce dilinde uzun soluklu film çekilmiştir."
   ]
  },
  {
   "cell_type": "markdown",
   "id": "e0b4e4bd-1024-493d-a30d-b196361b9a31",
   "metadata": {
    "tags": []
   },
   "source": [
    "#### 2) 2019 Ocak ile 2020 Haziran tarihleri arasında 'Documentary' türünde çekilmiş filmlerin IMDB değerlerini bulup görselleştiriniz. (OK)"
   ]
  },
  {
   "cell_type": "code",
   "execution_count": 15,
   "id": "a3f16046-661e-44bd-952b-f5dae03eadd1",
   "metadata": {},
   "outputs": [
    {
     "data": {
      "text/html": [
       "<div>\n",
       "<style scoped>\n",
       "    .dataframe tbody tr th:only-of-type {\n",
       "        vertical-align: middle;\n",
       "    }\n",
       "\n",
       "    .dataframe tbody tr th {\n",
       "        vertical-align: top;\n",
       "    }\n",
       "\n",
       "    .dataframe thead th {\n",
       "        text-align: right;\n",
       "    }\n",
       "</style>\n",
       "<table border=\"1\" class=\"dataframe\">\n",
       "  <thead>\n",
       "    <tr style=\"text-align: right;\">\n",
       "      <th></th>\n",
       "      <th>Title</th>\n",
       "      <th>Genre</th>\n",
       "      <th>Runtime</th>\n",
       "      <th>IMDB Score</th>\n",
       "      <th>Language</th>\n",
       "      <th>Date</th>\n",
       "    </tr>\n",
       "  </thead>\n",
       "  <tbody>\n",
       "    <tr>\n",
       "      <th>0</th>\n",
       "      <td>Enter the Anime</td>\n",
       "      <td>Documentary</td>\n",
       "      <td>58</td>\n",
       "      <td>2.5</td>\n",
       "      <td>English/Japanese</td>\n",
       "      <td>2019-08-05</td>\n",
       "    </tr>\n",
       "    <tr>\n",
       "      <th>15</th>\n",
       "      <td>After the Raid</td>\n",
       "      <td>Documentary</td>\n",
       "      <td>25</td>\n",
       "      <td>4.3</td>\n",
       "      <td>Spanish</td>\n",
       "      <td>2019-12-19</td>\n",
       "    </tr>\n",
       "    <tr>\n",
       "      <th>20</th>\n",
       "      <td>Hello Privilege. It's Me, Chelsea</td>\n",
       "      <td>Documentary</td>\n",
       "      <td>64</td>\n",
       "      <td>4.4</td>\n",
       "      <td>English</td>\n",
       "      <td>2019-09-13</td>\n",
       "    </tr>\n",
       "    <tr>\n",
       "      <th>30</th>\n",
       "      <td>After Maria</td>\n",
       "      <td>Documentary</td>\n",
       "      <td>37</td>\n",
       "      <td>4.6</td>\n",
       "      <td>English/Spanish</td>\n",
       "      <td>2019-05-24</td>\n",
       "    </tr>\n",
       "    <tr>\n",
       "      <th>111</th>\n",
       "      <td>Ghosts of Sugar Land</td>\n",
       "      <td>Documentary</td>\n",
       "      <td>21</td>\n",
       "      <td>5.5</td>\n",
       "      <td>English</td>\n",
       "      <td>2019-10-16</td>\n",
       "    </tr>\n",
       "    <tr>\n",
       "      <th>263</th>\n",
       "      <td>A Tale of Two Kitchens</td>\n",
       "      <td>Documentary</td>\n",
       "      <td>30</td>\n",
       "      <td>6.3</td>\n",
       "      <td>English/Spanish</td>\n",
       "      <td>2019-05-22</td>\n",
       "    </tr>\n",
       "    <tr>\n",
       "      <th>286</th>\n",
       "      <td>The Legend of Cocaine Island</td>\n",
       "      <td>Documentary</td>\n",
       "      <td>87</td>\n",
       "      <td>6.3</td>\n",
       "      <td>English</td>\n",
       "      <td>2019-03-29</td>\n",
       "    </tr>\n",
       "    <tr>\n",
       "      <th>290</th>\n",
       "      <td>Travis Scott: Look Mom I Can Fly</td>\n",
       "      <td>Documentary</td>\n",
       "      <td>85</td>\n",
       "      <td>6.3</td>\n",
       "      <td>English</td>\n",
       "      <td>2019-08-28</td>\n",
       "    </tr>\n",
       "    <tr>\n",
       "      <th>295</th>\n",
       "      <td>Birders</td>\n",
       "      <td>Documentary</td>\n",
       "      <td>37</td>\n",
       "      <td>6.4</td>\n",
       "      <td>English/Spanish</td>\n",
       "      <td>2019-09-25</td>\n",
       "    </tr>\n",
       "    <tr>\n",
       "      <th>303</th>\n",
       "      <td>Murder to Mercy: The Cyntoia Brown Story</td>\n",
       "      <td>Documentary</td>\n",
       "      <td>97</td>\n",
       "      <td>6.4</td>\n",
       "      <td>English</td>\n",
       "      <td>2020-04-29</td>\n",
       "    </tr>\n",
       "  </tbody>\n",
       "</table>\n",
       "</div>"
      ],
      "text/plain": [
       "                                        Title        Genre  Runtime  \\\n",
       "0                             Enter the Anime  Documentary       58   \n",
       "15                             After the Raid  Documentary       25   \n",
       "20          Hello Privilege. It's Me, Chelsea  Documentary       64   \n",
       "30                                After Maria  Documentary       37   \n",
       "111                      Ghosts of Sugar Land  Documentary       21   \n",
       "263                    A Tale of Two Kitchens  Documentary       30   \n",
       "286              The Legend of Cocaine Island  Documentary       87   \n",
       "290          Travis Scott: Look Mom I Can Fly  Documentary       85   \n",
       "295                                   Birders  Documentary       37   \n",
       "303  Murder to Mercy: The Cyntoia Brown Story  Documentary       97   \n",
       "\n",
       "     IMDB Score          Language       Date  \n",
       "0           2.5  English/Japanese 2019-08-05  \n",
       "15          4.3           Spanish 2019-12-19  \n",
       "20          4.4           English 2019-09-13  \n",
       "30          4.6   English/Spanish 2019-05-24  \n",
       "111         5.5           English 2019-10-16  \n",
       "263         6.3   English/Spanish 2019-05-22  \n",
       "286         6.3           English 2019-03-29  \n",
       "290         6.3           English 2019-08-28  \n",
       "295         6.4   English/Spanish 2019-09-25  \n",
       "303         6.4           English 2020-04-29  "
      ]
     },
     "execution_count": 15,
     "metadata": {},
     "output_type": "execute_result"
    }
   ],
   "source": [
    "dtdf = df.copy()\n",
    "dtdf = dtdf[(dtdf['Date'] >= '2019-01-01') & (dtdf['Date'] <= '2020-05-31')]\n",
    "dtdf = dtdf[dtdf['Genre'] == 'Documentary']\n",
    "dtdf.head(10)"
   ]
  },
  {
   "cell_type": "markdown",
   "id": "north-occasion",
   "metadata": {},
   "source": [
    "Öncelikle veri setimizde bulmak istediğimiz veri aralığını yazdık. Daha sonrasında bu aralığa uyan Documentaryleri aldık."
   ]
  },
  {
   "cell_type": "code",
   "execution_count": 16,
   "id": "paperback-breeding",
   "metadata": {},
   "outputs": [],
   "source": [
    "dtdf = dtdf.groupby('Title').sum().sort_values(by = 'IMDB Score', ascending = False)[:10]\n",
    "dtdf = dtdf.drop(labels = ['Runtime'], axis = 1)"
   ]
  },
  {
   "cell_type": "markdown",
   "id": "taken-control",
   "metadata": {},
   "source": [
    "Filmlerin IMDB değerlerini istediği için bunları önce filmleri grupladık ve IMDB Score'larına göre büyükten küçüğe olacak şekilde sıraladık. Kullandığımız tabloda runtime değerinin bir önemi olmadığı için o satırı kaldırdık."
   ]
  },
  {
   "cell_type": "code",
   "execution_count": 17,
   "id": "cb7befa6-aa02-4bdc-964b-2520640b7922",
   "metadata": {},
   "outputs": [
    {
     "data": {
      "image/png": "[encoded data removed]",
      "text/plain": [
       "<Figure size 432x288 with 1 Axes>"
      ]
     },
     "metadata": {
      "needs_background": "light"
     },
     "output_type": "display_data"
    }
   ],
   "source": [
    "dtdf.plot(kind = 'bar');"
   ]
  },
  {
   "cell_type": "markdown",
   "id": "connected-opera",
   "metadata": {},
   "source": [
    " 2019 Ocak ile 2020 Haziran tarihleri arasında 'Documentary' türünde çekilmiş, IMDB değeri en yüksek olan filmin Dancing with the Birds olduğunu gördük."
   ]
  },
  {
   "cell_type": "markdown",
   "id": "c9756690-557b-4a8f-8db7-8fab3cd73fd4",
   "metadata": {
    "tags": []
   },
   "source": [
    "#### 3) İngilizce çekilen filmler içerisinde hangi tür en yüksek IMDB puanına sahiptir?(OK)"
   ]
  },
  {
   "cell_type": "code",
   "execution_count": 18,
   "id": "4a64b7b1-72e9-47de-b420-587c780ab2ff",
   "metadata": {},
   "outputs": [
    {
     "data": {
      "text/html": [
       "<div>\n",
       "<style scoped>\n",
       "    .dataframe tbody tr th:only-of-type {\n",
       "        vertical-align: middle;\n",
       "    }\n",
       "\n",
       "    .dataframe tbody tr th {\n",
       "        vertical-align: top;\n",
       "    }\n",
       "\n",
       "    .dataframe thead th {\n",
       "        text-align: right;\n",
       "    }\n",
       "</style>\n",
       "<table border=\"1\" class=\"dataframe\">\n",
       "  <thead>\n",
       "    <tr style=\"text-align: right;\">\n",
       "      <th></th>\n",
       "      <th>Title</th>\n",
       "      <th>Genre</th>\n",
       "      <th>Runtime</th>\n",
       "      <th>IMDB Score</th>\n",
       "      <th>Language</th>\n",
       "      <th>Date</th>\n",
       "    </tr>\n",
       "  </thead>\n",
       "  <tbody>\n",
       "    <tr>\n",
       "      <th>583</th>\n",
       "      <td>David Attenborough: A Life on Our Planet</td>\n",
       "      <td>Documentary</td>\n",
       "      <td>83</td>\n",
       "      <td>9.0</td>\n",
       "      <td>English</td>\n",
       "      <td>2020-10-04</td>\n",
       "    </tr>\n",
       "  </tbody>\n",
       "</table>\n",
       "</div>"
      ],
      "text/plain": [
       "                                        Title        Genre  Runtime  \\\n",
       "583  David Attenborough: A Life on Our Planet  Documentary       83   \n",
       "\n",
       "     IMDB Score Language       Date  \n",
       "583         9.0  English 2020-10-04  "
      ]
     },
     "execution_count": 18,
     "metadata": {},
     "output_type": "execute_result"
    }
   ],
   "source": [
    "eng = df.copy()\n",
    "most=eng[(eng['Language'] == 'English') & (eng[\"IMDB Score\"]>=9)]\n",
    "most"
   ]
  },
  {
   "cell_type": "code",
   "execution_count": 19,
   "id": "artificial-corrections",
   "metadata": {},
   "outputs": [
    {
     "data": {
      "text/plain": [
       "583    Documentary\n",
       "Name: Genre, dtype: category\n",
       "Categories (115, object): ['Action', 'Action comedy', 'Action thriller', 'Action-adventure', ..., 'War drama', 'War-Comedy', 'Western', 'Zombie/Heist']"
      ]
     },
     "execution_count": 19,
     "metadata": {},
     "output_type": "execute_result"
    }
   ],
   "source": [
    "most[\"Genre\"]"
   ]
  },
  {
   "cell_type": "markdown",
   "id": "binding-warren",
   "metadata": {},
   "source": [
    "Bizden ingilizce dilindeki filmleri istediği için bunu Language'i ingilizce olan ve IMDB Score'u 9 veya 9'a eşit olan filmi filtredik ve en yüksek IMDB puanına sahip filmin türünün Documentary olduğunu elde ettik."
   ]
  },
  {
   "cell_type": "markdown",
   "id": "25865c57-3146-405c-89f9-ac37b1942475",
   "metadata": {},
   "source": [
    "#### 4) 'Hindi' dilinde çekilmiş olan filmlerin ortalama 'runtime' süresi nedir? (OK)"
   ]
  },
  {
   "cell_type": "code",
   "execution_count": 20,
   "id": "915c0c1c-646a-4c32-9434-7e8b8d104a4f",
   "metadata": {},
   "outputs": [
    {
     "data": {
      "text/html": [
       "<div>\n",
       "<style scoped>\n",
       "    .dataframe tbody tr th:only-of-type {\n",
       "        vertical-align: middle;\n",
       "    }\n",
       "\n",
       "    .dataframe tbody tr th {\n",
       "        vertical-align: top;\n",
       "    }\n",
       "\n",
       "    .dataframe thead th {\n",
       "        text-align: right;\n",
       "    }\n",
       "</style>\n",
       "<table border=\"1\" class=\"dataframe\">\n",
       "  <thead>\n",
       "    <tr style=\"text-align: right;\">\n",
       "      <th></th>\n",
       "      <th>Title</th>\n",
       "      <th>Genre</th>\n",
       "      <th>Runtime</th>\n",
       "      <th>IMDB Score</th>\n",
       "      <th>Language</th>\n",
       "      <th>Date</th>\n",
       "    </tr>\n",
       "  </thead>\n",
       "  <tbody>\n",
       "    <tr>\n",
       "      <th>4</th>\n",
       "      <td>Kaali Khuhi</td>\n",
       "      <td>Mystery</td>\n",
       "      <td>90</td>\n",
       "      <td>3.4</td>\n",
       "      <td>Hindi</td>\n",
       "      <td>2020-10-30</td>\n",
       "    </tr>\n",
       "    <tr>\n",
       "      <th>5</th>\n",
       "      <td>Drive</td>\n",
       "      <td>Action</td>\n",
       "      <td>147</td>\n",
       "      <td>3.5</td>\n",
       "      <td>Hindi</td>\n",
       "      <td>2019-11-01</td>\n",
       "    </tr>\n",
       "    <tr>\n",
       "      <th>9</th>\n",
       "      <td>Sardar Ka Grandson</td>\n",
       "      <td>Comedy</td>\n",
       "      <td>139</td>\n",
       "      <td>4.1</td>\n",
       "      <td>Hindi</td>\n",
       "      <td>2021-05-18</td>\n",
       "    </tr>\n",
       "    <tr>\n",
       "      <th>16</th>\n",
       "      <td>Ghost Stories</td>\n",
       "      <td>Horror anthology</td>\n",
       "      <td>144</td>\n",
       "      <td>4.3</td>\n",
       "      <td>Hindi</td>\n",
       "      <td>2020-01-01</td>\n",
       "    </tr>\n",
       "    <tr>\n",
       "      <th>23</th>\n",
       "      <td>The Girl on the Train</td>\n",
       "      <td>Thriller</td>\n",
       "      <td>120</td>\n",
       "      <td>4.4</td>\n",
       "      <td>Hindi</td>\n",
       "      <td>2021-02-26</td>\n",
       "    </tr>\n",
       "  </tbody>\n",
       "</table>\n",
       "</div>"
      ],
      "text/plain": [
       "                    Title             Genre  Runtime  IMDB Score Language  \\\n",
       "4             Kaali Khuhi           Mystery       90         3.4    Hindi   \n",
       "5                   Drive            Action      147         3.5    Hindi   \n",
       "9      Sardar Ka Grandson            Comedy      139         4.1    Hindi   \n",
       "16          Ghost Stories  Horror anthology      144         4.3    Hindi   \n",
       "23  The Girl on the Train          Thriller      120         4.4    Hindi   \n",
       "\n",
       "         Date  \n",
       "4  2020-10-30  \n",
       "5  2019-11-01  \n",
       "9  2021-05-18  \n",
       "16 2020-01-01  \n",
       "23 2021-02-26  "
      ]
     },
     "execution_count": 20,
     "metadata": {},
     "output_type": "execute_result"
    }
   ],
   "source": [
    "hindi = df.copy()\n",
    "hindi = hindi[hindi['Language'] == 'Hindi']\n",
    "hindi.head(5)"
   ]
  },
  {
   "cell_type": "code",
   "execution_count": 21,
   "id": "2645d545-a223-4d37-97de-1088a22faacb",
   "metadata": {},
   "outputs": [
    {
     "data": {
      "text/plain": [
       "115.78787878787878"
      ]
     },
     "execution_count": 21,
     "metadata": {},
     "output_type": "execute_result"
    }
   ],
   "source": [
    "hindi.Runtime.mean()"
   ]
  },
  {
   "cell_type": "markdown",
   "id": "amino-checklist",
   "metadata": {},
   "source": [
    "Burada da Hindi dilinde istediği için Language'si Hindi olan filmleri listeledik. Daha sonrasında mean fonksiyonu ile bu filmlerin ortalamasını aldık ve ortalamanın 115.78787878787878 olduğunu elde ettik."
   ]
  },
  {
   "cell_type": "markdown",
   "id": "76b004fb-8014-41af-bf14-b08c32630312",
   "metadata": {},
   "source": [
    "#### 5) 'Genre' sütunu kaç kategoriye sahiptir ve bu kategoriler nelerdir? Görselleştirerek ifade ediniz. (OK)"
   ]
  },
  {
   "cell_type": "code",
   "execution_count": 22,
   "id": "8e1660d3-234c-47b7-8963-60bef435e578",
   "metadata": {
    "tags": []
   },
   "outputs": [
    {
     "data": {
      "text/plain": [
       "115"
      ]
     },
     "execution_count": 22,
     "metadata": {},
     "output_type": "execute_result"
    }
   ],
   "source": [
    "df.Genre.nunique()"
   ]
  },
  {
   "cell_type": "code",
   "execution_count": 23,
   "id": "db829aea-6a2f-41d8-a7c2-6bee67f55b3c",
   "metadata": {},
   "outputs": [
    {
     "data": {
      "image/png": "[encoded data removed]",
      "text/plain": [
       "<Figure size 432x288 with 1 Axes>"
      ]
     },
     "metadata": {},
     "output_type": "display_data"
    }
   ],
   "source": [
    "data = df[\"Genre\"].value_counts().head(8)\n",
    "plt.pie(df[\"Genre\"].value_counts().head(8), labels=data.index ,autopct='%1.1f%%');\n",
    "plt.show()"
   ]
  },
  {
   "cell_type": "markdown",
   "id": "offensive-appraisal",
   "metadata": {},
   "source": [
    "nunique fonksiyonu sayesinde genre sütununda kaç tane tür olduğunu bulduk. Sonrasında ise pie grafiği ile Genre türlerine göre kategorize edip bunu labels olarak grafiğe ekledik. Yüzdeliğini gösteren autopct özelliğini %1.1f%% olarak belirledik. Bu sayede yazılar iç içe geçmedi ve daha okunur bir tablo elde etmiş olduk. Yazdığımız grafik kodunu da görebilmek için show fonksiyonunu kullandık. Buna bağlı olarak Documentary türün en büyük oranla yer alırken arkasından sırasıyla Drama, Comedy ve Romantic Comedy türlerinin olduğunu gördük."
   ]
  },
  {
   "cell_type": "markdown",
   "id": "5795cdce-cec0-4549-beab-862dd9db2323",
   "metadata": {},
   "source": [
    "#### 6) Veri setinde bulunan filmlerde en çok kullanılan 3 dili bulunuz. (OK)"
   ]
  },
  {
   "cell_type": "code",
   "execution_count": 24,
   "id": "50b83e30-11a2-4e4f-9330-c144bbc82793",
   "metadata": {},
   "outputs": [
    {
     "data": {
      "text/plain": [
       "English    401\n",
       "Hindi       33\n",
       "Spanish     31\n",
       "Name: Language, dtype: int64"
      ]
     },
     "execution_count": 24,
     "metadata": {},
     "output_type": "execute_result"
    }
   ],
   "source": [
    "df.Language.value_counts()[:3]"
   ]
  },
  {
   "cell_type": "markdown",
   "id": "passing-preserve",
   "metadata": {},
   "source": [
    "Bizden dili istediği için Language sütunundaki dillerin sayılarının sadece ilk üçünü döndüren kısmını aldık. İngilizce, Hintçe ve İspanyolca dilleri Netflix'te kullanılan en çok kullanılan dil olduğunu bulduk."
   ]
  },
  {
   "cell_type": "markdown",
   "id": "4b8f7164-5589-4a69-944f-c53d15bc5457",
   "metadata": {},
   "source": [
    "#### 7) IMDB puanı en yüksek olan ilk 10 film hangileridir? (OK)"
   ]
  },
  {
   "cell_type": "code",
   "execution_count": 25,
   "id": "4e2f7502-3b66-4173-a2af-c947a31edb61",
   "metadata": {},
   "outputs": [
    {
     "data": {
      "text/html": [
       "<div>\n",
       "<style scoped>\n",
       "    .dataframe tbody tr th:only-of-type {\n",
       "        vertical-align: middle;\n",
       "    }\n",
       "\n",
       "    .dataframe tbody tr th {\n",
       "        vertical-align: top;\n",
       "    }\n",
       "\n",
       "    .dataframe thead th {\n",
       "        text-align: right;\n",
       "    }\n",
       "</style>\n",
       "<table border=\"1\" class=\"dataframe\">\n",
       "  <thead>\n",
       "    <tr style=\"text-align: right;\">\n",
       "      <th></th>\n",
       "      <th>IMDB Score</th>\n",
       "    </tr>\n",
       "    <tr>\n",
       "      <th>Title</th>\n",
       "      <th></th>\n",
       "    </tr>\n",
       "  </thead>\n",
       "  <tbody>\n",
       "    <tr>\n",
       "      <th>David Attenborough: A Life on Our Planet</th>\n",
       "      <td>9.0</td>\n",
       "    </tr>\n",
       "    <tr>\n",
       "      <th>Emicida: AmarElo - It's All For Yesterday</th>\n",
       "      <td>8.6</td>\n",
       "    </tr>\n",
       "    <tr>\n",
       "      <th>Springsteen on Broadway</th>\n",
       "      <td>8.5</td>\n",
       "    </tr>\n",
       "    <tr>\n",
       "      <th>Ben Platt: Live from Radio City Music Hall</th>\n",
       "      <td>8.4</td>\n",
       "    </tr>\n",
       "    <tr>\n",
       "      <th>Taylor Swift: Reputation Stadium Tour</th>\n",
       "      <td>8.4</td>\n",
       "    </tr>\n",
       "    <tr>\n",
       "      <th>Winter on Fire: Ukraine's Fight for Freedom</th>\n",
       "      <td>8.4</td>\n",
       "    </tr>\n",
       "    <tr>\n",
       "      <th>Cuba and the Cameraman</th>\n",
       "      <td>8.3</td>\n",
       "    </tr>\n",
       "    <tr>\n",
       "      <th>Dancing with the Birds</th>\n",
       "      <td>8.3</td>\n",
       "    </tr>\n",
       "    <tr>\n",
       "      <th>The Three Deaths of Marisela Escobedo</th>\n",
       "      <td>8.2</td>\n",
       "    </tr>\n",
       "    <tr>\n",
       "      <th>Seaspiracy</th>\n",
       "      <td>8.2</td>\n",
       "    </tr>\n",
       "  </tbody>\n",
       "</table>\n",
       "</div>"
      ],
      "text/plain": [
       "                                             IMDB Score\n",
       "Title                                                  \n",
       "David Attenborough: A Life on Our Planet            9.0\n",
       "Emicida: AmarElo - It's All For Yesterday           8.6\n",
       "Springsteen on Broadway                             8.5\n",
       "Ben Platt: Live from Radio City Music Hall          8.4\n",
       "Taylor Swift: Reputation Stadium Tour               8.4\n",
       "Winter on Fire: Ukraine's Fight for Freedom         8.4\n",
       "Cuba and the Cameraman                              8.3\n",
       "Dancing with the Birds                              8.3\n",
       "The Three Deaths of Marisela Escobedo               8.2\n",
       "Seaspiracy                                          8.2"
      ]
     },
     "execution_count": 25,
     "metadata": {},
     "output_type": "execute_result"
    }
   ],
   "source": [
    "imdb_topten = df.groupby('Title').sum().sort_values(by = 'IMDB Score', ascending = False)[:10]\n",
    "imdb_topten.drop(labels = ['Runtime'], inplace = True, axis = 1)\n",
    "imdb_topten"
   ]
  },
  {
   "cell_type": "markdown",
   "id": "intended-dispute",
   "metadata": {},
   "source": [
    "Önce filmleri gruplandırdık ve IMDB Score'larına göre büyükten küçüğe olacak şekilde sıraladık. En yüksek 10 film için ise sınırlandırmayı 10 olarak belirledik. Bizden sadece filmleri sorduğu için Runtime sütununu kaldırdık ve istenilen sonucu elde ettik."
   ]
  },
  {
   "cell_type": "markdown",
   "id": "8c5f3aeb-2c84-45e3-8d9b-63f54b85df7a",
   "metadata": {},
   "source": [
    "#### 8) IMDB puanı ile 'Runtime' arasında nasıl bir korelasyon vardır? İnceleyip görselleştiriniz. (OK)"
   ]
  },
  {
   "cell_type": "code",
   "execution_count": 26,
   "id": "dc94c8ca-e257-48e6-bbd5-48aaabb6f776",
   "metadata": {},
   "outputs": [
    {
     "data": {
      "image/png": "[encoded data removed]",
      "text/plain": [
       "<Figure size 432x288 with 2 Axes>"
      ]
     },
     "metadata": {
      "needs_background": "light"
     },
     "output_type": "display_data"
    }
   ],
   "source": [
    "sns.heatmap(df.corr(), annot = True);"
   ]
  },
  {
   "cell_type": "markdown",
   "id": "cognitive-accused",
   "metadata": {},
   "source": [
    "Pearson methoduna göre yapılan korelasyon matrisinde görüldüğü üzere, korelasyon katsayısı 0'a yakın olduğu için bir ilişkiden bahsedilemeyeceği söylenebilir."
   ]
  },
  {
   "cell_type": "code",
   "execution_count": 27,
   "id": "fabulous-nirvana",
   "metadata": {},
   "outputs": [
    {
     "data": {
      "image/png": "[encoded data removed]",
      "text/plain": [
       "<Figure size 1296x360 with 1 Axes>"
      ]
     },
     "metadata": {
      "needs_background": "light"
     },
     "output_type": "display_data"
    }
   ],
   "source": [
    "fig=plt.figure(figsize=(18,5))\n",
    "plt.scatter(df[\"IMDB Score\"],df[\"Runtime\"])\n",
    "plt.show()"
   ]
  },
  {
   "cell_type": "markdown",
   "id": "accomplished-illness",
   "metadata": {},
   "source": [
    "Aynı şekilde scatter grafiğinde ilişkinin yönü ve şiddetini incelediğimizde bir korelasyon olmadığını görüyoruz."
   ]
  },
  {
   "cell_type": "markdown",
   "id": "b9fb3274-42b8-4cb3-9831-3251cfafa629",
   "metadata": {},
   "source": [
    "#### 9) IMDB Puanı en yüksek olan ilk 10 'Genre' hangileridir? Görselleştiriniz. (OK)"
   ]
  },
  {
   "cell_type": "code",
   "execution_count": 28,
   "id": "choice-version",
   "metadata": {},
   "outputs": [],
   "source": [
    "best_IMDB = df.groupby(\"Genre\").agg({\"IMDB Score\": \"mean\"}).sort_values(\"IMDB Score\", ascending=False).head(10)"
   ]
  },
  {
   "cell_type": "code",
   "execution_count": 29,
   "id": "f9bf7612-f01a-41c3-abfd-9402531934c8",
   "metadata": {},
   "outputs": [
    {
     "data": {
      "image/png": "[encoded data removed]",
      "text/plain": [
       "<Figure size 432x288 with 1 Axes>"
      ]
     },
     "metadata": {
      "needs_background": "light"
     },
     "output_type": "display_data"
    }
   ],
   "source": [
    "best_IMDB.plot(kind = \"bar\")\n",
    "plt.title(\"En yüksek IMDB puanlı film türleri\")\n",
    "plt.show()"
   ]
  },
  {
   "cell_type": "markdown",
   "id": "earlier-somewhere",
   "metadata": {},
   "source": [
    "Genreleri gruplandırıp IMDB Score'larına göre göre ortalamalarını aldık. Bu şekilde her türün ortalama IMDB Score'unu elde etmiş olduk. Daha sonrasında ise bu değerleri yine IMDB Score'a göre büyükten küçüğe olacak şekilde sıraladık ve ilk on filmi görebilmek için head(10) fonksiyonunu kullandık.Animation/Christmas/Comedy/Adventue en çok IMDB puanı alan türdür."
   ]
  },
  {
   "cell_type": "markdown",
   "id": "312b793a-7782-4d46-a70f-86f7070cffa8",
   "metadata": {},
   "source": [
    "#### 10) 'Runtime' değeri en yüksek olan ilk 10 film hangileridir? Görselleştiriniz. (OK)"
   ]
  },
  {
   "cell_type": "code",
   "execution_count": 30,
   "id": "4b26ddb1-0af6-495f-ad8d-95b43b8b39e4",
   "metadata": {},
   "outputs": [],
   "source": [
    "df_Runtime = df.groupby('Title').sum().sort_values(by = 'Runtime', ascending = False)[:10]"
   ]
  },
  {
   "cell_type": "code",
   "execution_count": 31,
   "id": "ad1c7c0d-989d-4144-91b4-cd3b15bfb151",
   "metadata": {},
   "outputs": [
    {
     "data": {
      "image/png": "[encoded data removed]",
      "text/plain": [
       "<Figure size 432x288 with 1 Axes>"
      ]
     },
     "metadata": {
      "needs_background": "light"
     },
     "output_type": "display_data"
    }
   ],
   "source": [
    "df_Runtime = df.sort_values([\"Runtime\"], ascending=False).head(10)\n",
    "plt.plot(df_Runtime[\"Runtime\"], df_Runtime[\"Title\"], marker = \"o\")\n",
    "plt.title(\"En uzun ilk 10 film\")\n",
    "plt.grid()\n",
    "plt.show()"
   ]
  },
  {
   "cell_type": "markdown",
   "id": "packed-background",
   "metadata": {},
   "source": [
    "Filmleri gruplandırdıktan sonra Rumtime değerine göre büyükten küçüğe olacak şekilde sıraladık ve ilk on filmi yazdırdık ve bu filmleri göstermek için plot grafiğini kullandık. Noktaların yerini daha net belirleyebilmek için çizgileri oluşturan grid fonksiyonunu kullandık ve en uzun filmin The Irishman."
   ]
  },
  {
   "cell_type": "markdown",
   "id": "1b2279f2-170c-4c59-806b-44c09bae88e6",
   "metadata": {
    "tags": []
   },
   "source": [
    "#### 11) Hangi yılda en fazla film yayımlanmıştır? Görselleştiriniz. (OK)"
   ]
  },
  {
   "cell_type": "code",
   "execution_count": 32,
   "id": "58bb5f40-776a-45c7-9daf-250cb263e251",
   "metadata": {},
   "outputs": [
    {
     "data": {
      "image/png": "[encoded data removed]",
      "text/plain": [
       "<Figure size 432x288 with 1 Axes>"
      ]
     },
     "metadata": {
      "needs_background": "light"
     },
     "output_type": "display_data"
    }
   ],
   "source": [
    "year_most = df.copy()\n",
    "year_most['Year'] = year_most['Date'].dt.year\n",
    "year = year_most.Year.value_counts()\n",
    "sns.barplot(x = year.index, y = year.values);"
   ]
  },
  {
   "cell_type": "markdown",
   "id": "precise-waters",
   "metadata": {},
   "source": [
    "ilk önce df veri setini kopyaladık ve eski verisetindeki Date sütununun year kısmını, year_most veri setinin Year sütununa eşitledik. Bu sayede sadece yıllara bakarak karşılaştırma yapabildik. Sonrasında ise her yılda çıkan filmlerin sayısını aldık. En çok 2020 yılında film yayımlanmıştır."
   ]
  },
  {
   "cell_type": "markdown",
   "id": "3ab59d9e-6060-40a0-bfed-d007f88b0f24",
   "metadata": {},
   "source": [
    "#### 12) Hangi dilde yayımlanan filmler en düşük ortalama IMBD puanına sahiptir? Görselleştiriniz."
   ]
  },
  {
   "cell_type": "code",
   "execution_count": 33,
   "id": "09cba923-f6bf-4a14-8bfc-ffe36dbfea5f",
   "metadata": {},
   "outputs": [
    {
     "data": {
      "image/png": "[encoded data removed]",
      "text/plain": [
       "<Figure size 432x288 with 1 Axes>"
      ]
     },
     "metadata": {
      "needs_background": "light"
     },
     "output_type": "display_data"
    }
   ],
   "source": [
    "low_imdb = df.copy()\n",
    "low_imdb = low_imdb.groupby('Language').mean().sort_values(by = 'IMDB Score')[:10]\n",
    "low_imdb.drop(labels = ['Runtime'], axis = 1, inplace = True)\n",
    "low_imdb.plot(kind = 'bar');"
   ]
  },
  {
   "cell_type": "markdown",
   "id": "parental-identifier",
   "metadata": {},
   "source": [
    "IMDB değerlerinin Language'e göre ortalamasını aldık ve bunu küçükten büyüğe olacak şekilde sıraladık ve ilk on dili kullandık. Malay dilinde çekilmiş film en düşük IMDB puanına sahip filmdir."
   ]
  },
  {
   "cell_type": "markdown",
   "id": "80db8588-59e0-420d-a85d-d01928f5d044",
   "metadata": {},
   "source": [
    "#### 13) Hangi yılın toplam \"runtime\" süresi en fazladır?"
   ]
  },
  {
   "cell_type": "code",
   "execution_count": 34,
   "id": "244eb646-ef44-4af9-a3cc-33e119d6798d",
   "metadata": {},
   "outputs": [
    {
     "data": {
      "text/html": [
       "<div>\n",
       "<style scoped>\n",
       "    .dataframe tbody tr th:only-of-type {\n",
       "        vertical-align: middle;\n",
       "    }\n",
       "\n",
       "    .dataframe tbody tr th {\n",
       "        vertical-align: top;\n",
       "    }\n",
       "\n",
       "    .dataframe thead th {\n",
       "        text-align: right;\n",
       "    }\n",
       "</style>\n",
       "<table border=\"1\" class=\"dataframe\">\n",
       "  <thead>\n",
       "    <tr style=\"text-align: right;\">\n",
       "      <th></th>\n",
       "      <th>Runtime</th>\n",
       "    </tr>\n",
       "    <tr>\n",
       "      <th>Year</th>\n",
       "      <th></th>\n",
       "    </tr>\n",
       "  </thead>\n",
       "  <tbody>\n",
       "    <tr>\n",
       "      <th>2020</th>\n",
       "      <td>17384</td>\n",
       "    </tr>\n",
       "    <tr>\n",
       "      <th>2019</th>\n",
       "      <td>10856</td>\n",
       "    </tr>\n",
       "    <tr>\n",
       "      <th>2018</th>\n",
       "      <td>9405</td>\n",
       "    </tr>\n",
       "    <tr>\n",
       "      <th>2021</th>\n",
       "      <td>7214</td>\n",
       "    </tr>\n",
       "    <tr>\n",
       "      <th>2017</th>\n",
       "      <td>6129</td>\n",
       "    </tr>\n",
       "  </tbody>\n",
       "</table>\n",
       "</div>"
      ],
      "text/plain": [
       "      Runtime\n",
       "Year         \n",
       "2020    17384\n",
       "2019    10856\n",
       "2018     9405\n",
       "2021     7214\n",
       "2017     6129"
      ]
     },
     "execution_count": 34,
     "metadata": {},
     "output_type": "execute_result"
    }
   ],
   "source": [
    "max_runtime = year_most.groupby('Year').sum().sort_values(by = 'Runtime', ascending = False)[:5]\n",
    "max_runtime.drop(labels = ['IMDB Score'], axis = 1, inplace = True)\n",
    "max_runtime"
   ]
  },
  {
   "cell_type": "markdown",
   "id": "native-winter",
   "metadata": {},
   "source": [
    "Yıllara göre Runtime değerini büyükten küçüğe olacak şekilde sıraladık ve diğer yılları da görebilmek ve kodu doğru yazdığımızdan emin olmak için diğer yılları da ekledik. Görüyoruz ki 2020 yılındaki runtime süresi diğerlerinden daha fazladır."
   ]
  },
  {
   "cell_type": "markdown",
   "id": "79dd2924-7987-4657-88de-34a72a05f9a9",
   "metadata": {},
   "source": [
    "#### 14) Her bir dilin en fazla kullanıldığı \"Genre\" nedir?"
   ]
  },
  {
   "cell_type": "code",
   "execution_count": 35,
   "id": "88d48e6e-a8ce-40a5-800e-9c2464048c81",
   "metadata": {},
   "outputs": [
    {
     "data": {
      "image/png": "[encoded data removed]",
      "text/plain": [
       "<Figure size 432x288 with 1 Axes>"
      ]
     },
     "metadata": {
      "needs_background": "light"
     },
     "output_type": "display_data"
    }
   ],
   "source": [
    "mgl = df.groupby(['Language'])['Genre'].value_counts().sort_values(ascending = False).groupby(level = 0).head(1) \n",
    "mgl.plot(kind = 'bar');"
   ]
  },
  {
   "cell_type": "markdown",
   "id": "forward-moldova",
   "metadata": {},
   "source": [
    "Gruplandırdığımız Language sütununun Genre'sinin sıralamasını toplayıp büyükten küçüğe olacak şekilde sınıflandırdık ve gruplandırma indeksinin 0. değerlerini mgl değişkenine atadık. İngilizce'de en çok Documentary türünde film çekilmiştir. Onun ardından Hindi dilinde en çok Drama türünde film çekilmiştir. Spanish dilinde en çok Drama türünde film çekilmiştir."
   ]
  },
  {
   "cell_type": "markdown",
   "id": "fbd4387d-89a6-4f8d-851d-fc7e1fdf0cdd",
   "metadata": {
    "tags": []
   },
   "source": [
    "#### 15) Veri setinde outlier veri var mıdır? Açıklayınız."
   ]
  },
  {
   "cell_type": "markdown",
   "id": "moved-coffee",
   "metadata": {},
   "source": [
    "Outlier veri, ortalamanın üzerinde ya da altında olan, modellemede bizi yanıltıcı sonuçlar veren değerlerdir. Describe metotu ile istatiksel verileri ele alalım."
   ]
  },
  {
   "cell_type": "code",
   "execution_count": 36,
   "id": "expensive-gravity",
   "metadata": {},
   "outputs": [
    {
     "data": {
      "text/html": [
       "<div>\n",
       "<style scoped>\n",
       "    .dataframe tbody tr th:only-of-type {\n",
       "        vertical-align: middle;\n",
       "    }\n",
       "\n",
       "    .dataframe tbody tr th {\n",
       "        vertical-align: top;\n",
       "    }\n",
       "\n",
       "    .dataframe thead th {\n",
       "        text-align: right;\n",
       "    }\n",
       "</style>\n",
       "<table border=\"1\" class=\"dataframe\">\n",
       "  <thead>\n",
       "    <tr style=\"text-align: right;\">\n",
       "      <th></th>\n",
       "      <th>count</th>\n",
       "      <th>mean</th>\n",
       "      <th>std</th>\n",
       "      <th>min</th>\n",
       "      <th>25%</th>\n",
       "      <th>50%</th>\n",
       "      <th>75%</th>\n",
       "      <th>max</th>\n",
       "    </tr>\n",
       "  </thead>\n",
       "  <tbody>\n",
       "    <tr>\n",
       "      <th>Runtime</th>\n",
       "      <td>584.0</td>\n",
       "      <td>93.577055</td>\n",
       "      <td>27.761683</td>\n",
       "      <td>4.0</td>\n",
       "      <td>86.0</td>\n",
       "      <td>97.00</td>\n",
       "      <td>108.0</td>\n",
       "      <td>209.0</td>\n",
       "    </tr>\n",
       "    <tr>\n",
       "      <th>IMDB Score</th>\n",
       "      <td>584.0</td>\n",
       "      <td>6.271747</td>\n",
       "      <td>0.979256</td>\n",
       "      <td>2.5</td>\n",
       "      <td>5.7</td>\n",
       "      <td>6.35</td>\n",
       "      <td>7.0</td>\n",
       "      <td>9.0</td>\n",
       "    </tr>\n",
       "  </tbody>\n",
       "</table>\n",
       "</div>"
      ],
      "text/plain": [
       "            count       mean        std  min   25%    50%    75%    max\n",
       "Runtime     584.0  93.577055  27.761683  4.0  86.0  97.00  108.0  209.0\n",
       "IMDB Score  584.0   6.271747   0.979256  2.5   5.7   6.35    7.0    9.0"
      ]
     },
     "execution_count": 36,
     "metadata": {},
     "output_type": "execute_result"
    }
   ],
   "source": [
    "df.describe().T"
   ]
  },
  {
   "cell_type": "code",
   "execution_count": 39,
   "id": "2ca63345-907a-4065-a398-c356ff98b0c9",
   "metadata": {
    "scrolled": true,
    "tags": []
   },
   "outputs": [
    {
     "name": "stdout",
     "output_type": "stream",
     "text": [
      "Requirement already satisfied: missingno in c:\\users\\gunnu\\appdata\\local\\programs\\python\\python39\\lib\\site-packages (0.5.1)\n",
      "Requirement already satisfied: matplotlib in c:\\users\\gunnu\\appdata\\local\\programs\\python\\python39\\lib\\site-packages (from missingno) (3.4.0)\n",
      "Requirement already satisfied: seaborn in c:\\users\\gunnu\\appdata\\local\\programs\\python\\python39\\lib\\site-packages (from missingno) (0.11.2)\n",
      "Requirement already satisfied: scipy in c:\\users\\gunnu\\appdata\\local\\programs\\python\\python39\\lib\\site-packages (from missingno) (1.7.2)\n",
      "Requirement already satisfied: numpy in c:\\users\\gunnu\\appdata\\local\\programs\\python\\python39\\lib\\site-packages (from missingno) (1.20.2)\n",
      "Requirement already satisfied: pyparsing>=2.2.1 in c:\\users\\gunnu\\appdata\\local\\programs\\python\\python39\\lib\\site-packages (from matplotlib->missingno) (2.4.7)\n",
      "Requirement already satisfied: kiwisolver>=1.0.1 in c:\\users\\gunnu\\appdata\\local\\programs\\python\\python39\\lib\\site-packages (from matplotlib->missingno) (1.3.1)\n",
      "Requirement already satisfied: python-dateutil>=2.7 in c:\\users\\gunnu\\appdata\\local\\programs\\python\\python39\\lib\\site-packages (from matplotlib->missingno) (2.8.1)\n",
      "Requirement already satisfied: cycler>=0.10 in c:\\users\\gunnu\\appdata\\local\\programs\\python\\python39\\lib\\site-packages (from matplotlib->missingno) (0.10.0)\n",
      "Requirement already satisfied: pillow>=6.2.0 in c:\\users\\gunnu\\appdata\\local\\programs\\python\\python39\\lib\\site-packages (from matplotlib->missingno) (8.1.2)\n",
      "Requirement already satisfied: pandas>=0.23 in c:\\users\\gunnu\\appdata\\local\\programs\\python\\python39\\lib\\site-packages (from seaborn->missingno) (1.3.4)\n",
      "Requirement already satisfied: six in c:\\users\\gunnu\\appdata\\local\\programs\\python\\python39\\lib\\site-packages (from cycler>=0.10->matplotlib->missingno) (1.15.0)\n",
      "Requirement already satisfied: pytz>=2017.3 in c:\\users\\gunnu\\appdata\\local\\programs\\python\\python39\\lib\\site-packages (from pandas>=0.23->seaborn->missingno) (2021.1)\n"
     ]
    },
    {
     "name": "stderr",
     "output_type": "stream",
     "text": [
      "WARNING: You are using pip version 21.3.1; however, version 22.2 is available.\n",
      "You should consider upgrading via the 'c:\\users\\gunnu\\appdata\\local\\programs\\python\\python39\\python.exe -m pip install --upgrade pip' command.\n"
     ]
    }
   ],
   "source": [
    "!pip install missingno\n",
    "import missingno as msno\n",
    "from datetime import date\n",
    "from sklearn.metrics import accuracy_score\n",
    "from sklearn.model_selection import train_test_split\n",
    "from sklearn.neighbors import LocalOutlierFactor\n",
    "from sklearn.preprocessing import MinMaxScaler, LabelEncoder, StandardScaler, RobustScaler"
   ]
  },
  {
   "cell_type": "code",
   "execution_count": 40,
   "id": "ed4e956c-aeec-4d5e-a1d0-300da5bc750b",
   "metadata": {},
   "outputs": [
    {
     "name": "stdout",
     "output_type": "stream",
     "text": [
      "<class 'pandas.core.frame.DataFrame'>\n",
      "RangeIndex: 584 entries, 0 to 583\n",
      "Data columns (total 6 columns):\n",
      " #   Column      Non-Null Count  Dtype         \n",
      "---  ------      --------------  -----         \n",
      " 0   Title       584 non-null    category      \n",
      " 1   Genre       584 non-null    category      \n",
      " 2   Runtime     584 non-null    int64         \n",
      " 3   IMDB Score  584 non-null    float64       \n",
      " 4   Language    584 non-null    category      \n",
      " 5   Date        584 non-null    datetime64[ns]\n",
      "dtypes: category(3), datetime64[ns](1), float64(1), int64(1)\n",
      "memory usage: 43.1 KB\n"
     ]
    }
   ],
   "source": [
    "df.info()"
   ]
  },
  {
   "cell_type": "markdown",
   "id": "fb2d1b63-899a-4c88-b922-77b99a57ad37",
   "metadata": {},
   "source": [
    "Bu veri setinde \"Runtime\" ve \"IMDB Score\" değerleri numerik veridir. \"Year\" değişkeni 'int64' tipinde görülmesine rağmen aslında tarih değişkenidir. Bu değerler için aykırı değer var mıdır?"
   ]
  },
  {
   "cell_type": "code",
   "execution_count": 41,
   "id": "28dc4edf-2d29-4db5-ba12-3d90d5ed4a5d",
   "metadata": {},
   "outputs": [
    {
     "data": {
      "image/png": "[encoded data removed]",
      "text/plain": [
       "<Figure size 432x288 with 1 Axes>"
      ]
     },
     "metadata": {
      "needs_background": "light"
     },
     "output_type": "display_data"
    }
   ],
   "source": [
    "num_cols = [\"Runtime\", \"IMDB Score\"]\n",
    "df[num_cols].plot(kind = \"box\");"
   ]
  },
  {
   "cell_type": "markdown",
   "id": "9c94da38-d70b-414f-807d-1e5400c9237b",
   "metadata": {},
   "source": [
    "'Runtime' değişkeni için outlier değerler vardır. IMDB Score değerinde de olabilir ama bu grafikten anlaması zordur. Başka bir yöntem deneyeceğiz."
   ]
  },
  {
   "cell_type": "code",
   "execution_count": 42,
   "id": "5b5e7bae-3a90-4801-be17-8b7a25ad9f0e",
   "metadata": {},
   "outputs": [],
   "source": [
    "def outlier_thresholds(dataframe, col_name, q1=0.2, q3=0.8):\n",
    "    quartile1 = dataframe[col_name].quantile(q1)\n",
    "    quartile3 = dataframe[col_name].quantile(q3)\n",
    "    IQR = quartile3 - quartile1\n",
    "    up_limit = quartile3 + 1.5 * IQR\n",
    "    low_limit = quartile1 - 1.5 * IQR\n",
    "    print(f\"{col_name} low_ limit: {low_limit}\")\n",
    "    print(f\"{col_name} up_ limit: {up_limit}\")\n",
    "    return low_limit, up_limit"
   ]
  },
  {
   "cell_type": "code",
   "execution_count": 43,
   "id": "132bd613-8684-444f-beb5-b342f48f08c2",
   "metadata": {},
   "outputs": [
    {
     "name": "stdout",
     "output_type": "stream",
     "text": [
      "Runtime low_ limit: 39.5\n",
      "Runtime up_ limit: 155.5\n",
      "IMDB Score low_ limit: 3.1000000000000005\n",
      "IMDB Score up_ limit: 9.5\n"
     ]
    },
    {
     "data": {
      "text/plain": [
       "(3.1000000000000005, 9.5)"
      ]
     },
     "execution_count": 43,
     "metadata": {},
     "output_type": "execute_result"
    }
   ],
   "source": [
    "outlier_thresholds(df, \"Runtime\")\n",
    "outlier_thresholds(df, \"IMDB Score\")"
   ]
  },
  {
   "cell_type": "code",
   "execution_count": 44,
   "id": "cf7889b7-cdcc-416c-b87e-851914d185ac",
   "metadata": {},
   "outputs": [],
   "source": [
    "def check_outlier(dataframe, col_name):\n",
    "    low_limit, up_limit = outlier_thresholds(dataframe, col_name)\n",
    "    if dataframe[(dataframe[col_name] > up_limit) | (dataframe[col_name] < low_limit)].any(axis = None):\n",
    "        print(dataframe[(dataframe[col_name] > up_limit) | (dataframe[col_name] < low_limit)])\n",
    "    else:\n",
    "        False"
   ]
  },
  {
   "cell_type": "code",
   "execution_count": 45,
   "id": "e9531cbd-0606-4b3f-b66d-f2b3b258e2e0",
   "metadata": {
    "scrolled": true,
    "tags": []
   },
   "outputs": [
    {
     "name": "stdout",
     "output_type": "stream",
     "text": [
      "Runtime low_ limit: 39.5\n",
      "Runtime up_ limit: 155.5\n",
      "                                                 Title                  Genre  \\\n",
      "15                                      After the Raid            Documentary   \n",
      "30                                         After Maria            Documentary   \n",
      "40                                         Sol Levante          Anime / Short   \n",
      "66   American Factory: A Conversation with the Obamas   Aftershow / Interview   \n",
      "111                               Ghosts of Sugar Land            Documentary   \n",
      "152                                   Out of Many, One            Documentary   \n",
      "197     Frankenstein's Monster's Monster, Frankenstein           Mockumentary   \n",
      "199  Notes from Dunblane: Lesson from a School Shoo...            Documentary   \n",
      "263                             A Tale of Two Kitchens            Documentary   \n",
      "295                                            Birders            Documentary   \n",
      "301                  John Was Trying to Contact Aliens            Documentary   \n",
      "320                                     A 3 Minute Hug            Documentary   \n",
      "325                                            Canvas       Animation / Short   \n",
      "326            Chadwick Boseman: Portrait of an Artist            Documentary   \n",
      "345                                  What Did Jack Do?          Drama / Short   \n",
      "363                        What Would Sophia Loren Do?            Documentary   \n",
      "378                                   Little Miss Sumo            Documentary   \n",
      "393                            A Love Song for Latasha            Documentary   \n",
      "394                                   All in My Family            Documentary   \n",
      "402                                         Heroin(e)             Documentary   \n",
      "407           The Boys in the Band: Something Personal  Aftershow / Interview   \n",
      "410                                         The Trader            Documentary   \n",
      "417                                   Cops and Robbers      Animation / Short   \n",
      "427                             The Claudia Kishi Club            Documentary   \n",
      "430  The Lonely Island Presents: The Unauthorized B...       Comedy / Musical   \n",
      "434  I'm No Longer Here: A Discussion with Guillerm...  Aftershow / Interview   \n",
      "436                         Lorena, Light-Footed Woman            Documentary   \n",
      "439  Ma Rainey's Black Bottom: A Legacy Brought to ...  Aftershow / Interview   \n",
      "445                                          Resurface            Documentary   \n",
      "451  13th: A Conversation with Oprah Winfrey & Ava ...  Aftershow / Interview   \n",
      "452                                 Angela's Christmas              Animation   \n",
      "471                               Ram Dass, Going Home            Documentary   \n",
      "485                                       Ladies First            Documentary   \n",
      "496        The Road to El Camino: A Breaking Bad Movie              Making-of   \n",
      "498                                              Zion             Documentary   \n",
      "501                                           Extremis            Documentary   \n",
      "513                            Sitara: Let Girls Dream      Animation / Short   \n",
      "521                                   Fire in Paradise            Documentary   \n",
      "524                           Period. End of Sentence.            Documentary   \n",
      "528                      The Irishman: In Conversation  Aftershow / Interview   \n",
      "552                                              Anima        Musical / Short   \n",
      "560                     If Anything Happens I Love You      Animation / Short   \n",
      "561                                       The Irishman            Crime drama   \n",
      "\n",
      "     Runtime  IMDB Score          Language       Date  \n",
      "15        25         4.3           Spanish 2019-12-19  \n",
      "30        37         4.6   English/Spanish 2019-05-24  \n",
      "40         4         4.7           English 2020-04-02  \n",
      "66        10         5.2           English 2019-08-21  \n",
      "111       21         5.5           English 2019-10-16  \n",
      "152       34         5.7           English 2018-12-12  \n",
      "197       32         5.9           English 2019-07-16  \n",
      "199       23         5.9           English 2018-09-28  \n",
      "263       30         6.3   English/Spanish 2019-05-22  \n",
      "295       37         6.4   English/Spanish 2019-09-25  \n",
      "301       16         6.4           English 2020-08-20  \n",
      "320       28         6.5   English/Spanish 2019-10-28  \n",
      "325        9         6.5           English 2020-12-11  \n",
      "326       21         6.5           English 2021-04-17  \n",
      "345       17         6.5           English 2020-01-20  \n",
      "363       32         6.6           English 2021-01-15  \n",
      "378       19         6.7          Japanese 2019-10-28  \n",
      "393       19         6.8           English 2020-09-21  \n",
      "394       39         6.8  English/Mandarin 2019-05-03  \n",
      "402       39         6.8           English 2017-09-12  \n",
      "407       28         6.8           English 2020-09-30  \n",
      "410       23         6.8          Georgian 2018-02-09  \n",
      "417        7         6.9           English 2020-12-28  \n",
      "427       17         6.9           English 2020-07-10  \n",
      "430       30         6.9           English 2019-05-23  \n",
      "434       14         7.0           English 2020-11-03  \n",
      "436       28         7.0           Spanish 2019-11-20  \n",
      "439       31         7.0           English 2020-12-18  \n",
      "445       27         7.0           English 2017-09-01  \n",
      "451       36         7.1           English 2017-01-26  \n",
      "452       30         7.1           English 2018-11-30  \n",
      "471       31         7.1           English 2018-04-06  \n",
      "485       39         7.2     English/Hindi 2018-03-08  \n",
      "496       13         7.2           English 2019-10-29  \n",
      "498       11         7.2           English 2018-08-10  \n",
      "501       24         7.3           English 2016-09-13  \n",
      "513       15         7.3           English 2020-03-08  \n",
      "521       39         7.4           English 2019-11-01  \n",
      "524       26         7.4     English/Hindi 2019-02-12  \n",
      "528       23         7.4           English 2019-11-27  \n",
      "552       15         7.7           English 2019-06-27  \n",
      "560       12         7.8           English 2020-11-20  \n",
      "561      209         7.8           English 2019-11-27  \n"
     ]
    },
    {
     "name": "stderr",
     "output_type": "stream",
     "text": [
      "c:\\users\\gunnu\\appdata\\local\\programs\\python\\python39\\lib\\site-packages\\pandas\\core\\generic.py:10531: FutureWarning: Dropping of nuisance columns in DataFrame reductions (with 'bool_only=None') is deprecated; in a future version this will raise TypeError.  Select only valid columns before calling the reduction.\n",
      "  return NDFrame.any(self, axis, bool_only, skipna, level, **kwargs)\n"
     ]
    }
   ],
   "source": [
    "check_outlier(df, \"Runtime\")"
   ]
  },
  {
   "cell_type": "code",
   "execution_count": 46,
   "id": "577ab27d-3d50-4e0b-a9b2-56cb036a09c9",
   "metadata": {
    "scrolled": true
   },
   "outputs": [
    {
     "name": "stdout",
     "output_type": "stream",
     "text": [
      "IMDB Score low_ limit: 3.1000000000000005\n",
      "IMDB Score up_ limit: 9.5\n",
      "             Title                  Genre  Runtime  IMDB Score  \\\n",
      "0  Enter the Anime            Documentary       58         2.5   \n",
      "1      Dark Forces               Thriller       81         2.6   \n",
      "2          The App  Science fiction/Drama       79         2.6   \n",
      "\n",
      "           Language       Date  \n",
      "0  English/Japanese 2019-08-05  \n",
      "1           Spanish 2020-08-21  \n",
      "2           Italian 2019-12-26  \n"
     ]
    },
    {
     "name": "stderr",
     "output_type": "stream",
     "text": [
      "c:\\users\\gunnu\\appdata\\local\\programs\\python\\python39\\lib\\site-packages\\pandas\\core\\generic.py:10531: FutureWarning: Dropping of nuisance columns in DataFrame reductions (with 'bool_only=None') is deprecated; in a future version this will raise TypeError.  Select only valid columns before calling the reduction.\n",
      "  return NDFrame.any(self, axis, bool_only, skipna, level, **kwargs)\n"
     ]
    }
   ],
   "source": [
    "check_outlier(df, \"IMDB Score\")"
   ]
  },
  {
   "cell_type": "markdown",
   "id": "stable-cylinder",
   "metadata": {},
   "source": [
    "Veri setindeki veri sayımız 500’den fazla olduğu için q1 değerini %20 ve q3 değerlerini de %80 belirledik. Klasik kullanılan %25-%75 denendiği zaman çok fazla outlier veri çıktığını ve çıkan verilerin de birbirine yakın değerler olduğunu gördük. Bu yüzden %20-%80 değerlerinin daha doğru sonuçları listelediğine karar verdik"
   ]
  }
 ],
 "metadata": {
  "kernelspec": {
   "display_name": "Python 3",
   "language": "python",
   "name": "python3"
  },
  "language_info": {
   "codemirror_mode": {
    "name": "ipython",
    "version": 3
   },
   "file_extension": ".py",
   "mimetype": "text/x-python",
   "name": "python",
   "nbconvert_exporter": "python",
   "pygments_lexer": "ipython3",
   "version": "3.9.2"
  },
  "toc-autonumbering": false
 },
 "nbformat": 4,
 "nbformat_minor": 5
}
