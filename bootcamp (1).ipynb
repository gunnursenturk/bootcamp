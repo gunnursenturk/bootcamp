{
 "cells": [
  {
   "cell_type": "code",
   "execution_count": 1,
   "id": "810bf734-99b1-4e6d-9ca3-47f20a887fc2",
   "metadata": {
    "id": "810bf734-99b1-4e6d-9ca3-47f20a887fc2"
   },
   "outputs": [],
   "source": [
    "import pandas as pd"
   ]
  },
  {
   "cell_type": "code",
   "execution_count": 2,
   "id": "2ae83e44-40fa-460f-b722-9be336ca7374",
   "metadata": {
    "id": "2ae83e44-40fa-460f-b722-9be336ca7374"
   },
   "outputs": [],
   "source": [
    "adlar = []\n",
    "yaslar = []\n",
    "burclar = []\n",
    "saygi = []\n",
    "komiklik = []\n",
    "kiskanclik = []\n",
    "yasanabilir_iliski = []\n",
    "kultur = []\n",
    "iliski_suresi =[]\n",
    "tip =[]\n",
    "boy =[]\n",
    "\n",
    "\n",
    "data = {\n",
    "    'Ad': adlar,\n",
    "    'Yaş': yaslar,\n",
    "    'Burç': burclar,\n",
    "    'Saygı': saygi,\n",
    "    'Komiklik': komiklik,\n",
    "    'Kıskançlık': kiskanclik,\n",
    "    'Yaşanabilir İlişki': yasanabilir_iliski,\n",
    "    'Kültür': kultur,\n",
    "    'İlişki Süresi': iliski_suresi,\n",
    "    'Tip':tip,\n",
    "    'Boy':boy,\n",
    "}\n"
   ]
  },
  {
   "cell_type": "code",
   "execution_count": null,
   "id": "a755e42e-e44a-4211-9d26-e24f2a27058a",
   "metadata": {
    "id": "a755e42e-e44a-4211-9d26-e24f2a27058a"
   },
   "outputs": [],
   "source": [
    "class Sevgililer:\n",
    "    def __init__(self, ad =\"\", yaslar=0, burc=\"\", saygi=0, komiklik=0, kiskançlik=0, yasanabilir_iliski=0, kultur=0, iliski_süresi=0,tip=0,boy=0 ):\n",
    "        self.ad = ad\n",
    "        self.yaslar = yaslar\n",
    "        self.burc = burc\n",
    "        self.saygi = saygi\n",
    "        self.komiklik = komiklik\n",
    "        self.kiskanclik = kiskanclik\n",
    "        self.yasanabilir_iliski = yasanabilir_iliski\n",
    "        self.kultur = kultur\n",
    "        self.iliski_suresi = iliski_suresi\n",
    "        self.tip=tip\n",
    "        self.boy=boy\n",
    "        \n",
    "# Öğrenci Kayıt Fonksiyonu:\n",
    "    def sevgili_kayit(self):\n",
    "        ad = input('Lütfen adını giriniz: ')\n",
    "        self.ad = ad\n",
    "        yaslar = int(input('Lütfen yaş giriniz: '))\n",
    "        self.yaslar = yaslar\n",
    "        burc = input('Lütfen burç giriniz: ')\n",
    "        self.burc = burc\n",
    "        saygi = float(input('Lütfen saygı giriniz: '))\n",
    "        self.saygi = saygi\n",
    "        komiklik = float(input('Lütfen komiklik giriniz: '))\n",
    "        self.komiklik = komiklik\n",
    "        kiskanclik = float(input('Lütfen kıskançlık giriniz: '))\n",
    "        self.kiskanclik = kiskanclik\n",
    "        yasanabilir_iliski = float(input('Lütfen yaşanabilir ilişki giriniz: '))\n",
    "        self.yasanabilir_iliski = yasanabilir_iliski\n",
    "        kultur = float(input('Lütfen kültür giriniz: '))\n",
    "        self.kultur = kultur\n",
    "        iliski_suresi = int(input('Lütfen ilişki süresi giriniz: '))\n",
    "        self.iliski_suresi = iliski_suresi\n",
    "        tip = float(input('Lütfen tip giriniz: '))\n",
    "        self.tip=tip\n",
    "        boy = float(input('Lütfen boy giriniz: '))\n",
    "        self.boy=boy\n",
    "        \n",
    "\n"
   ]
  },
  {
   "cell_type": "code",
   "execution_count": null,
   "id": "2b539503-0b1c-47e3-9185-1b1bf0dbc268",
   "metadata": {
    "id": "2b539503-0b1c-47e3-9185-1b1bf0dbc268"
   },
   "outputs": [],
   "source": [
    "def sevgili_ekle(sevgili):\n",
    "    _sevgili = sevgili\n",
    "    \n",
    "    sevgili_adlar.append(_sevgili.ad)\n",
    "    sevgili_yas.append(_sevgili.yas)\n",
    "    sevgili_burc.append(_sevgili.burc)\n",
    "    sevgili_saygi.append(_sevgili.saygi)\n",
    "    sevgili_komiklik.append(_sevgili.komiklik)\n",
    "    sevgili_kiskanclik.append(_sevgili.kiskanclik)\n",
    "    sevgili_yasanabilir_iliski.append(_sevgili.yasanabilir_iliski)\n",
    "    sevgili_kultur.append(_sevgili.kultur)\n",
    "    sevgili_iliski_suresi.append(_sevgili.iliski_suresi)\n",
    "    sevgili_tip.append(_sevgili.tip)\n",
    "    sevgili_boy.append(_sevgili.boy)"
   ]
  },
  {
   "cell_type": "code",
   "execution_count": null,
   "id": "bc1a49c5-f0da-4f5d-9c01-ea6549e27501",
   "metadata": {
    "id": "bc1a49c5-f0da-4f5d-9c01-ea6549e27501"
   },
   "outputs": [],
   "source": [
    "sevgili_n = Sevgililer()"
   ]
  },
  {
   "cell_type": "code",
   "execution_count": null,
   "id": "a33e6071-3715-41d9-b775-97d91c70c729",
   "metadata": {
    "colab": {
     "base_uri": "https://localhost:8080/"
    },
    "id": "a33e6071-3715-41d9-b775-97d91c70c729",
    "jupyter": {
     "outputs_hidden": true
    },
    "outputId": "e4c0ea82-a587-4bd8-ef69-0c247f7a29a2",
    "tags": []
   },
   "outputs": [],
   "source": [
    "n = 0\n",
    "while n < 10: #Sınıf nüfusu tanımlanabilir.\n",
    "  sevgili_n.sevgili_kayit()\n",
    "  sevgili_ekle(sevgili_n)\n",
    "  n +=1\n",
    " "
   ]
  },
  {
   "cell_type": "code",
   "execution_count": 8,
   "id": "123ab5c9-695b-4984-bd2b-e17d083003d3",
   "metadata": {
    "id": "123ab5c9-695b-4984-bd2b-e17d083003d3"
   },
   "outputs": [],
   "source": [
    "df = pd.DataFrame(data)"
   ]
  },
  {
   "cell_type": "code",
   "execution_count": 9,
   "id": "2f87ac88-cb5f-447f-af42-ebdf610aa2ba",
   "metadata": {
    "colab": {
     "base_uri": "https://localhost:8080/",
     "height": 363
    },
    "id": "2f87ac88-cb5f-447f-af42-ebdf610aa2ba",
    "outputId": "79d7da7d-d699-48d0-9f84-e285f787f274"
   },
   "outputs": [
    {
     "data": {
      "text/html": [
       "<div>\n",
       "<style scoped>\n",
       "    .dataframe tbody tr th:only-of-type {\n",
       "        vertical-align: middle;\n",
       "    }\n",
       "\n",
       "    .dataframe tbody tr th {\n",
       "        vertical-align: top;\n",
       "    }\n",
       "\n",
       "    .dataframe thead th {\n",
       "        text-align: right;\n",
       "    }\n",
       "</style>\n",
       "<table border=\"1\" class=\"dataframe\">\n",
       "  <thead>\n",
       "    <tr style=\"text-align: right;\">\n",
       "      <th></th>\n",
       "      <th>Ad</th>\n",
       "      <th>Soyad</th>\n",
       "      <th>No</th>\n",
       "      <th>Vize1</th>\n",
       "      <th>Vize2</th>\n",
       "      <th>Final</th>\n",
       "      <th>Ortalama</th>\n",
       "      <th>HarfNotu</th>\n",
       "      <th>Durum</th>\n",
       "    </tr>\n",
       "  </thead>\n",
       "  <tbody>\n",
       "    <tr>\n",
       "      <th>0</th>\n",
       "      <td>Betül</td>\n",
       "      <td>Demirdağ</td>\n",
       "      <td>111</td>\n",
       "      <td>70.0</td>\n",
       "      <td>80.0</td>\n",
       "      <td>60.0</td>\n",
       "      <td>67.5</td>\n",
       "      <td>CC</td>\n",
       "      <td>GEÇTİ</td>\n",
       "    </tr>\n",
       "    <tr>\n",
       "      <th>1</th>\n",
       "      <td>Mert Yasin</td>\n",
       "      <td>Bozkır</td>\n",
       "      <td>80</td>\n",
       "      <td>90.0</td>\n",
       "      <td>100.0</td>\n",
       "      <td>100.0</td>\n",
       "      <td>97.5</td>\n",
       "      <td>AA</td>\n",
       "      <td>GEÇTİ</td>\n",
       "    </tr>\n",
       "    <tr>\n",
       "      <th>2</th>\n",
       "      <td>Günnur</td>\n",
       "      <td>Şentürk</td>\n",
       "      <td>222</td>\n",
       "      <td>60.0</td>\n",
       "      <td>70.0</td>\n",
       "      <td>90.0</td>\n",
       "      <td>77.5</td>\n",
       "      <td>BB</td>\n",
       "      <td>GEÇTİ</td>\n",
       "    </tr>\n",
       "    <tr>\n",
       "      <th>3</th>\n",
       "      <td>Tarık Kaan</td>\n",
       "      <td>Koç</td>\n",
       "      <td>333</td>\n",
       "      <td>100.0</td>\n",
       "      <td>100.0</td>\n",
       "      <td>100.0</td>\n",
       "      <td>100.0</td>\n",
       "      <td>AA</td>\n",
       "      <td>GEÇTİ</td>\n",
       "    </tr>\n",
       "    <tr>\n",
       "      <th>4</th>\n",
       "      <td>Günnur</td>\n",
       "      <td>Şentürk</td>\n",
       "      <td>111</td>\n",
       "      <td>60.0</td>\n",
       "      <td>70.0</td>\n",
       "      <td>80.0</td>\n",
       "      <td>72.5</td>\n",
       "      <td>BB</td>\n",
       "      <td>GEÇTİ</td>\n",
       "    </tr>\n",
       "  </tbody>\n",
       "</table>\n",
       "</div>"
      ],
      "text/plain": [
       "           Ad     Soyad   No  Vize1  Vize2  Final  Ortalama HarfNotu  Durum\n",
       "0       Betül  Demirdağ  111   70.0   80.0   60.0      67.5       CC  GEÇTİ\n",
       "1  Mert Yasin    Bozkır   80   90.0  100.0  100.0      97.5       AA  GEÇTİ\n",
       "2      Günnur   Şentürk  222   60.0   70.0   90.0      77.5       BB  GEÇTİ\n",
       "3  Tarık Kaan       Koç  333  100.0  100.0  100.0     100.0       AA  GEÇTİ\n",
       "4      Günnur   Şentürk  111   60.0   70.0   80.0      72.5       BB  GEÇTİ"
      ]
     },
     "execution_count": 9,
     "metadata": {},
     "output_type": "execute_result"
    }
   ],
   "source": [
    "df.head()"
   ]
  },
  {
   "cell_type": "code",
   "execution_count": 10,
   "id": "980ef7bd-1845-4191-ac00-e8ca2139a58e",
   "metadata": {
    "id": "980ef7bd-1845-4191-ac00-e8ca2139a58e"
   },
   "outputs": [],
   "source": [
    "df.to_excel('berfo_yeni.xlsx')"
   ]
  }
 ],
 "metadata": {
  "colab": {
   "collapsed_sections": [],
   "name": "not_sistemi_v01.ipynb",
   "provenance": []
  },
  "kernelspec": {
   "display_name": "Python 3",
   "language": "python",
   "name": "python3"
  },
  "language_info": {
   "codemirror_mode": {
    "name": "ipython",
    "version": 3
   },
   "file_extension": ".py",
   "mimetype": "text/x-python",
   "name": "python",
   "nbconvert_exporter": "python",
   "pygments_lexer": "ipython3",
   "version": "3.9.2"
  }
 },
 "nbformat": 4,
 "nbformat_minor": 5
}
